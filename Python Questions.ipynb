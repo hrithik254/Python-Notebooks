{
 "cells": [
  {
   "cell_type": "code",
   "execution_count": 3,
   "metadata": {},
   "outputs": [
    {
     "name": "stdout",
     "output_type": "stream",
     "text": [
      "Give value of n (Integer)5\n"
     ]
    },
    {
     "data": {
      "text/plain": [
       "6"
      ]
     },
     "execution_count": 3,
     "metadata": {},
     "output_type": "execute_result"
    }
   ],
   "source": [
    "n = input(\"Give value of n (Integer)\")\n",
    "n = int(n)\n",
    "sum1 = 0\n",
    "for i in range(n+1):\n",
    "    if i %2 == 0:\n",
    "        sum1 = i + sum1\n",
    "sum1"
   ]
  },
  {
   "cell_type": "code",
   "execution_count": 12,
   "metadata": {},
   "outputs": [
    {
     "name": "stdout",
     "output_type": "stream",
     "text": [
      "Enter 'nil' if list is finished\n",
      "Start entering numbers. emter the 1 number : 676\n",
      "enter the 2 number 45\n",
      "enter the 3 number 7\n",
      "enter the 4 number 89\n",
      "enter the 5 number 676\n",
      "enter the 6 number nil\n",
      "the max number is 676\n"
     ]
    }
   ],
   "source": [
    "print(\"Enter 'nil' if list is finished\")\n",
    "k = 1\n",
    "n = input(\"Start entering numbers. emter the %d number : \"%k)\n",
    "list1 = []\n",
    "list1.append(int(n))\n",
    "while n :\n",
    "    k += 1\n",
    "    n = input('enter the %d number '%k)\n",
    "    if n == 'nil':\n",
    "        break\n",
    "    list1.append(int(n))\n",
    "\n",
    "print('the max number is %d' % max(list1))\n",
    "    "
   ]
  },
  {
   "cell_type": "code",
   "execution_count": null,
   "metadata": {},
   "outputs": [],
   "source": []
  }
 ],
 "metadata": {
  "kernelspec": {
   "display_name": "Python 3",
   "language": "python",
   "name": "python3"
  },
  "language_info": {
   "codemirror_mode": {
    "name": "ipython",
    "version": 3
   },
   "file_extension": ".py",
   "mimetype": "text/x-python",
   "name": "python",
   "nbconvert_exporter": "python",
   "pygments_lexer": "ipython3",
   "version": "3.7.7"
  }
 },
 "nbformat": 4,
 "nbformat_minor": 4
}
